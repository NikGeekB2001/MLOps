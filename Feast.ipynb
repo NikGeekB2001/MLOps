{
 "cells": [
  {
   "cell_type": "markdown",
   "id": "a054928d-bebb-481b-acbf-c39300ef7a3f",
   "metadata": {},
   "source": [
    "### Создания Feature View."
   ]
  },
  {
   "cell_type": "code",
   "execution_count": 70,
   "id": "20007390-0836-488a-8ec9-a7297376c2cb",
   "metadata": {},
   "outputs": [
    {
     "name": "stdout",
     "output_type": "stream",
     "text": [
      "Requirement already satisfied: pandas in /root/myenv/lib/python3.10/site-packages (2.2.2)\n",
      "Requirement already satisfied: pytz>=2020.1 in /root/myenv/lib/python3.10/site-packages (from pandas) (2024.1)\n",
      "Requirement already satisfied: tzdata>=2022.7 in /root/myenv/lib/python3.10/site-packages (from pandas) (2024.1)\n",
      "Requirement already satisfied: numpy>=1.22.4 in /root/myenv/lib/python3.10/site-packages (from pandas) (1.26.4)\n",
      "Requirement already satisfied: python-dateutil>=2.8.2 in /root/myenv/lib/python3.10/site-packages (from pandas) (2.9.0.post0)\n",
      "Requirement already satisfied: six>=1.5 in /root/myenv/lib/python3.10/site-packages (from python-dateutil>=2.8.2->pandas) (1.16.0)\n",
      "Note: you may need to restart the kernel to use updated packages.\n"
     ]
    }
   ],
   "source": [
    "pip install pandas\n"
   ]
  },
  {
   "cell_type": "markdown",
   "id": "195aee30-fd6d-4cf7-8211-914a641b1568",
   "metadata": {},
   "source": [
    "### Библиотека PyArrow поддерживает работу с различными форматами данных, включая Apache Arrow, Parquet, ORC и другие"
   ]
  },
  {
   "cell_type": "code",
   "execution_count": 71,
   "id": "d7daa0e6-934a-40f0-bd46-6d668ecf71c7",
   "metadata": {},
   "outputs": [
    {
     "name": "stdout",
     "output_type": "stream",
     "text": [
      "Requirement already satisfied: pyarrow in /root/myenv/lib/python3.10/site-packages (17.0.0)\n",
      "Requirement already satisfied: numpy>=1.16.6 in /root/myenv/lib/python3.10/site-packages (from pyarrow) (1.26.4)\n",
      "Note: you may need to restart the kernel to use updated packages.\n"
     ]
    }
   ],
   "source": [
    "pip install pyarrow"
   ]
  },
  {
   "cell_type": "markdown",
   "id": "ee12aabf-4e0b-4488-b0c4-31d8475d52d9",
   "metadata": {},
   "source": [
    "### библиотека Python для работы с форматом файла Parquet"
   ]
  },
  {
   "cell_type": "code",
   "execution_count": 72,
   "id": "ac58b597-f848-47c1-ae3d-938a108c4e70",
   "metadata": {},
   "outputs": [
    {
     "name": "stdout",
     "output_type": "stream",
     "text": [
      "Requirement already satisfied: fastparquet in /root/myenv/lib/python3.10/site-packages (2024.5.0)\n",
      "Requirement already satisfied: cramjam>=2.3 in /root/myenv/lib/python3.10/site-packages (from fastparquet) (2.8.3)\n",
      "Requirement already satisfied: pandas>=1.5.0 in /root/myenv/lib/python3.10/site-packages (from fastparquet) (2.2.2)\n",
      "Requirement already satisfied: numpy in /root/myenv/lib/python3.10/site-packages (from fastparquet) (1.26.4)\n",
      "Requirement already satisfied: fsspec in /root/myenv/lib/python3.10/site-packages (from fastparquet) (2024.6.1)\n",
      "Requirement already satisfied: packaging in /root/myenv/lib/python3.10/site-packages (from fastparquet) (24.1)\n",
      "Requirement already satisfied: python-dateutil>=2.8.2 in /root/myenv/lib/python3.10/site-packages (from pandas>=1.5.0->fastparquet) (2.9.0.post0)\n",
      "Requirement already satisfied: tzdata>=2022.7 in /root/myenv/lib/python3.10/site-packages (from pandas>=1.5.0->fastparquet) (2024.1)\n",
      "Requirement already satisfied: pytz>=2020.1 in /root/myenv/lib/python3.10/site-packages (from pandas>=1.5.0->fastparquet) (2024.1)\n",
      "Requirement already satisfied: six>=1.5 in /root/myenv/lib/python3.10/site-packages (from python-dateutil>=2.8.2->pandas>=1.5.0->fastparquet) (1.16.0)\n",
      "Note: you may need to restart the kernel to use updated packages.\n"
     ]
    }
   ],
   "source": [
    "pip install fastparquet\n"
   ]
  },
  {
   "cell_type": "code",
   "execution_count": 73,
   "id": "5a208fe0-3927-4b33-af99-7e1edec2a0bb",
   "metadata": {},
   "outputs": [
    {
     "name": "stdout",
     "output_type": "stream",
     "text": [
      "17.0.0\n"
     ]
    }
   ],
   "source": [
    "import pyarrow\n",
    "print(pyarrow.__version__)\n",
    "\n"
   ]
  },
  {
   "cell_type": "code",
   "execution_count": 74,
   "id": "9359dded-a7b8-450b-afe3-b3dbf5b07b0c",
   "metadata": {},
   "outputs": [
    {
     "name": "stdout",
     "output_type": "stream",
     "text": [
      "2024.5.0\n"
     ]
    }
   ],
   "source": [
    "import fastparquet\n",
    "print(fastparquet.__version__)\n"
   ]
  },
  {
   "cell_type": "markdown",
   "id": "e7400473-0c27-4ca3-bb2c-bcc13036cba5",
   "metadata": {},
   "source": [
    "### Чтение Parquet-файла с названием 'data/driver_stats.parquet'# в DataFrame df"
   ]
  },
  {
   "cell_type": "code",
   "execution_count": 75,
   "id": "eb0e5873-1169-4f96-bed7-743c95863b04",
   "metadata": {},
   "outputs": [],
   "source": [
    "import pandas as pd\n",
    "df = pd.read_parquet('data/driver_stats.parquet') "
   ]
  },
  {
   "cell_type": "code",
   "execution_count": 76,
   "id": "f2cd3e77-3095-4126-b151-a28f98cc36b0",
   "metadata": {},
   "outputs": [
    {
     "data": {
      "text/html": [
       "<div>\n",
       "<style scoped>\n",
       "    .dataframe tbody tr th:only-of-type {\n",
       "        vertical-align: middle;\n",
       "    }\n",
       "\n",
       "    .dataframe tbody tr th {\n",
       "        vertical-align: top;\n",
       "    }\n",
       "\n",
       "    .dataframe thead th {\n",
       "        text-align: right;\n",
       "    }\n",
       "</style>\n",
       "<table border=\"1\" class=\"dataframe\">\n",
       "  <thead>\n",
       "    <tr style=\"text-align: right;\">\n",
       "      <th></th>\n",
       "      <th>event_timestamp</th>\n",
       "      <th>driver_id</th>\n",
       "      <th>conv_rate</th>\n",
       "      <th>acc_rate</th>\n",
       "      <th>avg_daily_trips</th>\n",
       "      <th>created</th>\n",
       "    </tr>\n",
       "  </thead>\n",
       "  <tbody>\n",
       "    <tr>\n",
       "      <th>0</th>\n",
       "      <td>2024-08-16 12:00:00+00:00</td>\n",
       "      <td>1005</td>\n",
       "      <td>0.052614</td>\n",
       "      <td>0.305037</td>\n",
       "      <td>546</td>\n",
       "      <td>2024-08-31 12:51:16.842</td>\n",
       "    </tr>\n",
       "    <tr>\n",
       "      <th>1</th>\n",
       "      <td>2024-08-16 13:00:00+00:00</td>\n",
       "      <td>1005</td>\n",
       "      <td>0.009288</td>\n",
       "      <td>0.062068</td>\n",
       "      <td>69</td>\n",
       "      <td>2024-08-31 12:51:16.842</td>\n",
       "    </tr>\n",
       "    <tr>\n",
       "      <th>2</th>\n",
       "      <td>2024-08-16 14:00:00+00:00</td>\n",
       "      <td>1005</td>\n",
       "      <td>0.685283</td>\n",
       "      <td>0.282445</td>\n",
       "      <td>541</td>\n",
       "      <td>2024-08-31 12:51:16.842</td>\n",
       "    </tr>\n",
       "    <tr>\n",
       "      <th>3</th>\n",
       "      <td>2024-08-16 15:00:00+00:00</td>\n",
       "      <td>1005</td>\n",
       "      <td>0.765851</td>\n",
       "      <td>0.528518</td>\n",
       "      <td>256</td>\n",
       "      <td>2024-08-31 12:51:16.842</td>\n",
       "    </tr>\n",
       "    <tr>\n",
       "      <th>4</th>\n",
       "      <td>2024-08-16 16:00:00+00:00</td>\n",
       "      <td>1005</td>\n",
       "      <td>0.580591</td>\n",
       "      <td>0.079278</td>\n",
       "      <td>833</td>\n",
       "      <td>2024-08-31 12:51:16.842</td>\n",
       "    </tr>\n",
       "  </tbody>\n",
       "</table>\n",
       "</div>"
      ],
      "text/plain": [
       "            event_timestamp  driver_id  conv_rate  acc_rate  avg_daily_trips  \\\n",
       "0 2024-08-16 12:00:00+00:00       1005   0.052614  0.305037              546   \n",
       "1 2024-08-16 13:00:00+00:00       1005   0.009288  0.062068               69   \n",
       "2 2024-08-16 14:00:00+00:00       1005   0.685283  0.282445              541   \n",
       "3 2024-08-16 15:00:00+00:00       1005   0.765851  0.528518              256   \n",
       "4 2024-08-16 16:00:00+00:00       1005   0.580591  0.079278              833   \n",
       "\n",
       "                  created  \n",
       "0 2024-08-31 12:51:16.842  \n",
       "1 2024-08-31 12:51:16.842  \n",
       "2 2024-08-31 12:51:16.842  \n",
       "3 2024-08-31 12:51:16.842  \n",
       "4 2024-08-31 12:51:16.842  "
      ]
     },
     "execution_count": 76,
     "metadata": {},
     "output_type": "execute_result"
    }
   ],
   "source": [
    "df.head()"
   ]
  },
  {
   "cell_type": "markdown",
   "id": "15f53b49-371a-4e6d-8e66-cac9fa785368",
   "metadata": {},
   "source": [
    "### Feast Store Inference"
   ]
  },
  {
   "cell_type": "code",
   "execution_count": 78,
   "id": "ad169f40-5ada-4859-97c6-f416a1283fdd",
   "metadata": {},
   "outputs": [
    {
     "name": "stdout",
     "output_type": "stream",
     "text": [
      "Requirement already satisfied: datetime in /root/myenv/lib/python3.10/site-packages (5.5)\n",
      "Requirement already satisfied: zope.interface in /root/myenv/lib/python3.10/site-packages (from datetime) (7.0.3)\n",
      "Requirement already satisfied: pytz in /root/myenv/lib/python3.10/site-packages (from datetime) (2024.1)\n",
      "Requirement already satisfied: setuptools in /root/myenv/lib/python3.10/site-packages (from zope.interface->datetime) (59.6.0)\n",
      "Note: you may need to restart the kernel to use updated packages.\n"
     ]
    }
   ],
   "source": [
    "pip install datetime"
   ]
  },
  {
   "cell_type": "code",
   "execution_count": 79,
   "id": "89a8f1fd-7f63-450d-8bdc-752e835cfb5c",
   "metadata": {},
   "outputs": [
    {
     "name": "stdout",
     "output_type": "stream",
     "text": [
      "Requirement already satisfied: feast in /root/myenv/lib/python3.10/site-packages (0.40.1)\n",
      "Requirement already satisfied: pyarrow>=4 in /root/myenv/lib/python3.10/site-packages (from feast) (17.0.0)\n",
      "Requirement already satisfied: dask[dataframe]>=2024.2.1 in /root/myenv/lib/python3.10/site-packages (from feast) (2024.8.2)\n",
      "Requirement already satisfied: pandas<3,>=1.4.3 in /root/myenv/lib/python3.10/site-packages (from feast) (2.2.2)\n",
      "Requirement already satisfied: tenacity<9,>=7 in /root/myenv/lib/python3.10/site-packages (from feast) (8.5.0)\n",
      "Requirement already satisfied: uvicorn[standard]<1,>=0.14.0 in /root/myenv/lib/python3.10/site-packages (from feast) (0.30.6)\n",
      "Requirement already satisfied: pydantic>=2.0.0 in /root/myenv/lib/python3.10/site-packages (from feast) (2.8.2)\n",
      "Requirement already satisfied: fastapi>=0.68.0 in /root/myenv/lib/python3.10/site-packages (from feast) (0.112.2)\n",
      "Requirement already satisfied: tqdm<5,>=4 in /root/myenv/lib/python3.10/site-packages (from feast) (4.66.5)\n",
      "Requirement already satisfied: mypy-protobuf>=3.1 in /root/myenv/lib/python3.10/site-packages (from feast) (3.6.0)\n",
      "Requirement already satisfied: typeguard>=4.0.0 in /root/myenv/lib/python3.10/site-packages (from feast) (4.3.0)\n",
      "Requirement already satisfied: gunicorn in /root/myenv/lib/python3.10/site-packages (from feast) (23.0.0)\n",
      "Requirement already satisfied: dill~=0.3.0 in /root/myenv/lib/python3.10/site-packages (from feast) (0.3.8)\n",
      "Requirement already satisfied: toml<1,>=0.10.0 in /root/myenv/lib/python3.10/site-packages (from feast) (0.10.2)\n",
      "Requirement already satisfied: tabulate<1,>=0.8.0 in /root/myenv/lib/python3.10/site-packages (from feast) (0.9.0)\n",
      "Requirement already satisfied: colorama<1,>=0.3.9 in /root/myenv/lib/python3.10/site-packages (from feast) (0.4.6)\n",
      "Requirement already satisfied: pygments<3,>=2.12.0 in /root/myenv/lib/python3.10/site-packages (from feast) (2.18.0)\n",
      "Requirement already satisfied: numpy<2,>=1.22 in /root/myenv/lib/python3.10/site-packages (from feast) (1.26.4)\n",
      "Requirement already satisfied: jsonschema in /root/myenv/lib/python3.10/site-packages (from feast) (4.23.0)\n",
      "Requirement already satisfied: protobuf<5.0.0,>=4.24.0 in /root/myenv/lib/python3.10/site-packages (from feast) (4.25.4)\n",
      "Requirement already satisfied: requests in /root/myenv/lib/python3.10/site-packages (from feast) (2.32.3)\n",
      "Requirement already satisfied: mmh3 in /root/myenv/lib/python3.10/site-packages (from feast) (4.1.0)\n",
      "Requirement already satisfied: SQLAlchemy[mypy]>1 in /root/myenv/lib/python3.10/site-packages (from feast) (2.0.32)\n",
      "Requirement already satisfied: Jinja2<4,>=2 in /root/myenv/lib/python3.10/site-packages (from feast) (3.1.4)\n",
      "Requirement already satisfied: click<9.0.0,>=7.0.0 in /root/myenv/lib/python3.10/site-packages (from feast) (8.1.7)\n",
      "Requirement already satisfied: PyYAML<7,>=5.4.0 in /root/myenv/lib/python3.10/site-packages (from feast) (6.0.2)\n",
      "Requirement already satisfied: fsspec>=2021.09.0 in /root/myenv/lib/python3.10/site-packages (from dask[dataframe]>=2024.2.1->feast) (2024.6.1)\n",
      "Requirement already satisfied: toolz>=0.10.0 in /root/myenv/lib/python3.10/site-packages (from dask[dataframe]>=2024.2.1->feast) (0.12.1)\n",
      "Requirement already satisfied: packaging>=20.0 in /root/myenv/lib/python3.10/site-packages (from dask[dataframe]>=2024.2.1->feast) (24.1)\n",
      "Requirement already satisfied: cloudpickle>=3.0.0 in /root/myenv/lib/python3.10/site-packages (from dask[dataframe]>=2024.2.1->feast) (3.0.0)\n",
      "Requirement already satisfied: importlib-metadata>=4.13.0 in /root/myenv/lib/python3.10/site-packages (from dask[dataframe]>=2024.2.1->feast) (8.4.0)\n",
      "Requirement already satisfied: partd>=1.4.0 in /root/myenv/lib/python3.10/site-packages (from dask[dataframe]>=2024.2.1->feast) (1.4.2)\n",
      "Requirement already satisfied: dask-expr<1.2,>=1.1 in /root/myenv/lib/python3.10/site-packages (from dask[dataframe]>=2024.2.1->feast) (1.1.12)\n",
      "Requirement already satisfied: starlette<0.39.0,>=0.37.2 in /root/myenv/lib/python3.10/site-packages (from fastapi>=0.68.0->feast) (0.38.2)\n",
      "Requirement already satisfied: typing-extensions>=4.8.0 in /root/myenv/lib/python3.10/site-packages (from fastapi>=0.68.0->feast) (4.12.2)\n",
      "Requirement already satisfied: MarkupSafe>=2.0 in /root/myenv/lib/python3.10/site-packages (from Jinja2<4,>=2->feast) (2.1.5)\n",
      "Requirement already satisfied: types-protobuf>=4.24 in /root/myenv/lib/python3.10/site-packages (from mypy-protobuf>=3.1->feast) (5.27.0.20240626)\n",
      "Requirement already satisfied: pytz>=2020.1 in /root/myenv/lib/python3.10/site-packages (from pandas<3,>=1.4.3->feast) (2024.1)\n",
      "Requirement already satisfied: python-dateutil>=2.8.2 in /root/myenv/lib/python3.10/site-packages (from pandas<3,>=1.4.3->feast) (2.9.0.post0)\n",
      "Requirement already satisfied: tzdata>=2022.7 in /root/myenv/lib/python3.10/site-packages (from pandas<3,>=1.4.3->feast) (2024.1)\n",
      "Requirement already satisfied: pydantic-core==2.20.1 in /root/myenv/lib/python3.10/site-packages (from pydantic>=2.0.0->feast) (2.20.1)\n",
      "Requirement already satisfied: annotated-types>=0.4.0 in /root/myenv/lib/python3.10/site-packages (from pydantic>=2.0.0->feast) (0.7.0)\n",
      "Requirement already satisfied: greenlet!=0.4.17 in /root/myenv/lib/python3.10/site-packages (from SQLAlchemy[mypy]>1->feast) (3.0.3)\n",
      "Requirement already satisfied: mypy>=0.910 in /root/myenv/lib/python3.10/site-packages (from SQLAlchemy[mypy]>1->feast) (1.11.2)\n",
      "Requirement already satisfied: h11>=0.8 in /root/myenv/lib/python3.10/site-packages (from uvicorn[standard]<1,>=0.14.0->feast) (0.14.0)\n",
      "Requirement already satisfied: websockets>=10.4 in /root/myenv/lib/python3.10/site-packages (from uvicorn[standard]<1,>=0.14.0->feast) (13.0.1)\n",
      "Requirement already satisfied: watchfiles>=0.13 in /root/myenv/lib/python3.10/site-packages (from uvicorn[standard]<1,>=0.14.0->feast) (0.24.0)\n",
      "Requirement already satisfied: httptools>=0.5.0 in /root/myenv/lib/python3.10/site-packages (from uvicorn[standard]<1,>=0.14.0->feast) (0.6.1)\n",
      "Requirement already satisfied: uvloop!=0.15.0,!=0.15.1,>=0.14.0 in /root/myenv/lib/python3.10/site-packages (from uvicorn[standard]<1,>=0.14.0->feast) (0.20.0)\n",
      "Requirement already satisfied: python-dotenv>=0.13 in /root/myenv/lib/python3.10/site-packages (from uvicorn[standard]<1,>=0.14.0->feast) (1.0.1)\n",
      "Requirement already satisfied: jsonschema-specifications>=2023.03.6 in /root/myenv/lib/python3.10/site-packages (from jsonschema->feast) (2023.12.1)\n",
      "Requirement already satisfied: referencing>=0.28.4 in /root/myenv/lib/python3.10/site-packages (from jsonschema->feast) (0.35.1)\n",
      "Requirement already satisfied: attrs>=22.2.0 in /root/myenv/lib/python3.10/site-packages (from jsonschema->feast) (24.2.0)\n",
      "Requirement already satisfied: rpds-py>=0.7.1 in /root/myenv/lib/python3.10/site-packages (from jsonschema->feast) (0.20.0)\n",
      "Requirement already satisfied: idna<4,>=2.5 in /root/myenv/lib/python3.10/site-packages (from requests->feast) (3.8)\n",
      "Requirement already satisfied: urllib3<3,>=1.21.1 in /root/myenv/lib/python3.10/site-packages (from requests->feast) (2.2.2)\n",
      "Requirement already satisfied: certifi>=2017.4.17 in /root/myenv/lib/python3.10/site-packages (from requests->feast) (2024.8.30)\n",
      "Requirement already satisfied: charset-normalizer<4,>=2 in /root/myenv/lib/python3.10/site-packages (from requests->feast) (3.3.2)\n",
      "Requirement already satisfied: zipp>=0.5 in /root/myenv/lib/python3.10/site-packages (from importlib-metadata>=4.13.0->dask[dataframe]>=2024.2.1->feast) (3.20.1)\n",
      "Requirement already satisfied: tomli>=1.1.0 in /root/myenv/lib/python3.10/site-packages (from mypy>=0.910->SQLAlchemy[mypy]>1->feast) (2.0.1)\n",
      "Requirement already satisfied: mypy-extensions>=1.0.0 in /root/myenv/lib/python3.10/site-packages (from mypy>=0.910->SQLAlchemy[mypy]>1->feast) (1.0.0)\n",
      "Requirement already satisfied: locket in /root/myenv/lib/python3.10/site-packages (from partd>=1.4.0->dask[dataframe]>=2024.2.1->feast) (1.0.0)\n",
      "Requirement already satisfied: six>=1.5 in /root/myenv/lib/python3.10/site-packages (from python-dateutil>=2.8.2->pandas<3,>=1.4.3->feast) (1.16.0)\n",
      "Requirement already satisfied: anyio<5,>=3.4.0 in /root/myenv/lib/python3.10/site-packages (from starlette<0.39.0,>=0.37.2->fastapi>=0.68.0->feast) (4.4.0)\n",
      "Requirement already satisfied: sniffio>=1.1 in /root/myenv/lib/python3.10/site-packages (from anyio<5,>=3.4.0->starlette<0.39.0,>=0.37.2->fastapi>=0.68.0->feast) (1.3.1)\n",
      "Requirement already satisfied: exceptiongroup>=1.0.2 in /root/myenv/lib/python3.10/site-packages (from anyio<5,>=3.4.0->starlette<0.39.0,>=0.37.2->fastapi>=0.68.0->feast) (1.2.2)\n",
      "Note: you may need to restart the kernel to use updated packages.\n"
     ]
    }
   ],
   "source": [
    "pip install feast"
   ]
  },
  {
   "cell_type": "code",
   "execution_count": 80,
   "id": "38f37f39-b967-4220-97f7-0b3d940994bb",
   "metadata": {},
   "outputs": [],
   "source": [
    "from datetime import datetime \n",
    "import pandas as pd\n",
    "from feast import FeatureStore\n",
    "# FeatureStore - это основной класс в библиотеке Feast, который предоставляет API для работы с хранилищем признаков (feature store). \n",
    "# Он отвечает за организацию, хранение и управление признаками (features) в вашей системе машинного обучения."
   ]
  },
  {
   "cell_type": "code",
   "execution_count": 81,
   "id": "86eeee4e-bb89-4ee4-8c4a-6c19384283cd",
   "metadata": {},
   "outputs": [],
   "source": [
    "# Создание экземпляра FeatureStore\n",
    "# '.' указывает на текущую директорию как путь к конфигурационным файлам\n",
    "# store = FeatureStore('.')\n",
    "# Альтернативные варианты инициализации:\n",
    "# 1. С указанием пути к конфигурационным файлам\n",
    "# store = FeatureStore('/path/to/config/files')\n",
    "\n",
    "store = FeatureStore('.')"
   ]
  },
  {
   "cell_type": "code",
   "execution_count": 82,
   "id": "e60a6947-29ec-4566-ad97-c10e598c3b27",
   "metadata": {},
   "outputs": [
    {
     "data": {
      "text/html": [
       "<div>\n",
       "<style scoped>\n",
       "    .dataframe tbody tr th:only-of-type {\n",
       "        vertical-align: middle;\n",
       "    }\n",
       "\n",
       "    .dataframe tbody tr th {\n",
       "        vertical-align: top;\n",
       "    }\n",
       "\n",
       "    .dataframe thead th {\n",
       "        text-align: right;\n",
       "    }\n",
       "</style>\n",
       "<table border=\"1\" class=\"dataframe\">\n",
       "  <thead>\n",
       "    <tr style=\"text-align: right;\">\n",
       "      <th></th>\n",
       "      <th>event_timestamp</th>\n",
       "      <th>driver_id</th>\n",
       "      <th>conv_rate</th>\n",
       "      <th>acc_rate</th>\n",
       "      <th>avg_daily_trips</th>\n",
       "      <th>created</th>\n",
       "    </tr>\n",
       "  </thead>\n",
       "  <tbody>\n",
       "    <tr>\n",
       "      <th>0</th>\n",
       "      <td>2024-08-16 12:00:00+00:00</td>\n",
       "      <td>1005</td>\n",
       "      <td>0.052614</td>\n",
       "      <td>0.305037</td>\n",
       "      <td>546</td>\n",
       "      <td>2024-08-31 12:51:16.842</td>\n",
       "    </tr>\n",
       "    <tr>\n",
       "      <th>1</th>\n",
       "      <td>2024-08-16 13:00:00+00:00</td>\n",
       "      <td>1005</td>\n",
       "      <td>0.009288</td>\n",
       "      <td>0.062068</td>\n",
       "      <td>69</td>\n",
       "      <td>2024-08-31 12:51:16.842</td>\n",
       "    </tr>\n",
       "    <tr>\n",
       "      <th>2</th>\n",
       "      <td>2024-08-16 14:00:00+00:00</td>\n",
       "      <td>1005</td>\n",
       "      <td>0.685283</td>\n",
       "      <td>0.282445</td>\n",
       "      <td>541</td>\n",
       "      <td>2024-08-31 12:51:16.842</td>\n",
       "    </tr>\n",
       "    <tr>\n",
       "      <th>3</th>\n",
       "      <td>2024-08-16 15:00:00+00:00</td>\n",
       "      <td>1005</td>\n",
       "      <td>0.765851</td>\n",
       "      <td>0.528518</td>\n",
       "      <td>256</td>\n",
       "      <td>2024-08-31 12:51:16.842</td>\n",
       "    </tr>\n",
       "    <tr>\n",
       "      <th>4</th>\n",
       "      <td>2024-08-16 16:00:00+00:00</td>\n",
       "      <td>1005</td>\n",
       "      <td>0.580591</td>\n",
       "      <td>0.079278</td>\n",
       "      <td>833</td>\n",
       "      <td>2024-08-31 12:51:16.842</td>\n",
       "    </tr>\n",
       "  </tbody>\n",
       "</table>\n",
       "</div>"
      ],
      "text/plain": [
       "            event_timestamp  driver_id  conv_rate  acc_rate  avg_daily_trips  \\\n",
       "0 2024-08-16 12:00:00+00:00       1005   0.052614  0.305037              546   \n",
       "1 2024-08-16 13:00:00+00:00       1005   0.009288  0.062068               69   \n",
       "2 2024-08-16 14:00:00+00:00       1005   0.685283  0.282445              541   \n",
       "3 2024-08-16 15:00:00+00:00       1005   0.765851  0.528518              256   \n",
       "4 2024-08-16 16:00:00+00:00       1005   0.580591  0.079278              833   \n",
       "\n",
       "                  created  \n",
       "0 2024-08-31 12:51:16.842  \n",
       "1 2024-08-31 12:51:16.842  \n",
       "2 2024-08-31 12:51:16.842  \n",
       "3 2024-08-31 12:51:16.842  \n",
       "4 2024-08-31 12:51:16.842  "
      ]
     },
     "execution_count": 82,
     "metadata": {},
     "output_type": "execute_result"
    }
   ],
   "source": [
    "df.head()"
   ]
  },
  {
   "cell_type": "code",
   "execution_count": 83,
   "id": "4d86918d-6087-4562-bcf3-48f6105ebb94",
   "metadata": {},
   "outputs": [
    {
     "data": {
      "text/html": [
       "<div>\n",
       "<style scoped>\n",
       "    .dataframe tbody tr th:only-of-type {\n",
       "        vertical-align: middle;\n",
       "    }\n",
       "\n",
       "    .dataframe tbody tr th {\n",
       "        vertical-align: top;\n",
       "    }\n",
       "\n",
       "    .dataframe thead th {\n",
       "        text-align: right;\n",
       "    }\n",
       "</style>\n",
       "<table border=\"1\" class=\"dataframe\">\n",
       "  <thead>\n",
       "    <tr style=\"text-align: right;\">\n",
       "      <th></th>\n",
       "      <th>driver_id</th>\n",
       "      <th>event_timestamp</th>\n",
       "    </tr>\n",
       "  </thead>\n",
       "  <tbody>\n",
       "    <tr>\n",
       "      <th>0</th>\n",
       "      <td>1001</td>\n",
       "      <td>2021-04-12 10:59:42</td>\n",
       "    </tr>\n",
       "    <tr>\n",
       "      <th>1</th>\n",
       "      <td>1002</td>\n",
       "      <td>2021-04-12 08:12:10</td>\n",
       "    </tr>\n",
       "    <tr>\n",
       "      <th>2</th>\n",
       "      <td>1003</td>\n",
       "      <td>2021-04-12 16:40:26</td>\n",
       "    </tr>\n",
       "  </tbody>\n",
       "</table>\n",
       "</div>"
      ],
      "text/plain": [
       "   driver_id     event_timestamp\n",
       "0       1001 2021-04-12 10:59:42\n",
       "1       1002 2021-04-12 08:12:10\n",
       "2       1003 2021-04-12 16:40:26"
      ]
     },
     "execution_count": 83,
     "metadata": {},
     "output_type": "execute_result"
    }
   ],
   "source": [
    "# Импорт библиотек pandas и datetime\n",
    "import pandas as pd\n",
    "from datetime import datetime\n",
    "\n",
    "# Создание DataFrame из словаря с данными о водителях\n",
    "entity_df = pd.DataFrame.from_dict({\n",
    "    \"driver_id\": [1001, 1002, 1003],  # ID водителей\n",
    "    \"event_timestamp\": [              # Временные метки событий\n",
    "        datetime(2021, 4, 12, 10, 59, 42),\n",
    "        datetime(2021, 4, 12, 8, 12, 10),\n",
    "        datetime(2021, 4, 12, 16, 40, 26)\n",
    "    ]\n",
    "})\n",
    "\n",
    "# Вывод созданного DataFrame\n",
    "entity_df\n"
   ]
  },
  {
   "cell_type": "code",
   "execution_count": 84,
   "id": "b8fd47a0-0c6d-44a0-ad89-fab7ea164c63",
   "metadata": {},
   "outputs": [
    {
     "name": "stderr",
     "output_type": "stream",
     "text": [
      "WARNING:root:_list_feature_views will make breaking changes. Please use _list_batch_feature_views instead. _list_feature_views will behave like _list_all_feature_views in the future.\n"
     ]
    }
   ],
   "source": [
    "# Получение исторических признаков для водителей\n",
    "training_df = store.get_historical_features(\n",
    "    entity_df=entity_df,  # DataFrame с информацией о водителях\n",
    "    features=[            # Список признаков, которые нужно получить\n",
    "        'driver_hourly_stats_fresh:conv_rate',  # Конверсия в текущем часе\n",
    "        'driver_hourly_stats:avg_daily_trips',   # Среднее количество поездок в день\n",
    "        'driver_hourly_stats:acc_rate',          # Акцентуальность в текущем часе\n",
    "    ]\n",
    ").to_df()  # Преобразование результата в DataFrame\n"
   ]
  },
  {
   "cell_type": "code",
   "execution_count": 85,
   "id": "27b9a012-d920-4934-9987-bc357d068031",
   "metadata": {},
   "outputs": [
    {
     "data": {
      "text/html": [
       "<div>\n",
       "<style scoped>\n",
       "    .dataframe tbody tr th:only-of-type {\n",
       "        vertical-align: middle;\n",
       "    }\n",
       "\n",
       "    .dataframe tbody tr th {\n",
       "        vertical-align: top;\n",
       "    }\n",
       "\n",
       "    .dataframe thead th {\n",
       "        text-align: right;\n",
       "    }\n",
       "</style>\n",
       "<table border=\"1\" class=\"dataframe\">\n",
       "  <thead>\n",
       "    <tr style=\"text-align: right;\">\n",
       "      <th></th>\n",
       "      <th>driver_id</th>\n",
       "      <th>event_timestamp</th>\n",
       "      <th>conv_rate</th>\n",
       "      <th>avg_daily_trips</th>\n",
       "      <th>acc_rate</th>\n",
       "    </tr>\n",
       "  </thead>\n",
       "  <tbody>\n",
       "    <tr>\n",
       "      <th>0</th>\n",
       "      <td>1001</td>\n",
       "      <td>2021-04-12 10:59:42+00:00</td>\n",
       "      <td>0.813632</td>\n",
       "      <td>771</td>\n",
       "      <td>0.627108</td>\n",
       "    </tr>\n",
       "    <tr>\n",
       "      <th>1</th>\n",
       "      <td>1002</td>\n",
       "      <td>2021-04-12 08:12:10+00:00</td>\n",
       "      <td>0.852087</td>\n",
       "      <td>51</td>\n",
       "      <td>0.625460</td>\n",
       "    </tr>\n",
       "    <tr>\n",
       "      <th>2</th>\n",
       "      <td>1003</td>\n",
       "      <td>2021-04-12 16:40:26+00:00</td>\n",
       "      <td>0.272128</td>\n",
       "      <td>360</td>\n",
       "      <td>0.853903</td>\n",
       "    </tr>\n",
       "  </tbody>\n",
       "</table>\n",
       "</div>"
      ],
      "text/plain": [
       "   driver_id           event_timestamp  conv_rate  avg_daily_trips  acc_rate\n",
       "0       1001 2021-04-12 10:59:42+00:00   0.813632              771  0.627108\n",
       "1       1002 2021-04-12 08:12:10+00:00   0.852087               51  0.625460\n",
       "2       1003 2021-04-12 16:40:26+00:00   0.272128              360  0.853903"
      ]
     },
     "execution_count": 85,
     "metadata": {},
     "output_type": "execute_result"
    }
   ],
   "source": [
    "training_df"
   ]
  },
  {
   "cell_type": "markdown",
   "id": "7058c184-073e-4221-b51e-eae9a173159a",
   "metadata": {},
   "source": [
    "### Feature View - on demand"
   ]
  },
  {
   "cell_type": "code",
   "execution_count": 86,
   "id": "8ba80594-538b-4612-b8e0-6a6262bcb3c6",
   "metadata": {},
   "outputs": [
    {
     "data": {
      "text/html": [
       "<div>\n",
       "<style scoped>\n",
       "    .dataframe tbody tr th:only-of-type {\n",
       "        vertical-align: middle;\n",
       "    }\n",
       "\n",
       "    .dataframe tbody tr th {\n",
       "        vertical-align: top;\n",
       "    }\n",
       "\n",
       "    .dataframe thead th {\n",
       "        text-align: right;\n",
       "    }\n",
       "</style>\n",
       "<table border=\"1\" class=\"dataframe\">\n",
       "  <thead>\n",
       "    <tr style=\"text-align: right;\">\n",
       "      <th></th>\n",
       "      <th>driver_id</th>\n",
       "      <th>event_timestamp</th>\n",
       "      <th>val_to_add</th>\n",
       "      <th>val_to_add_2</th>\n",
       "    </tr>\n",
       "  </thead>\n",
       "  <tbody>\n",
       "    <tr>\n",
       "      <th>0</th>\n",
       "      <td>1001</td>\n",
       "      <td>2021-04-12 10:59:42</td>\n",
       "      <td>1</td>\n",
       "      <td>10</td>\n",
       "    </tr>\n",
       "    <tr>\n",
       "      <th>1</th>\n",
       "      <td>1002</td>\n",
       "      <td>2021-04-12 08:12:10</td>\n",
       "      <td>2</td>\n",
       "      <td>20</td>\n",
       "    </tr>\n",
       "    <tr>\n",
       "      <th>2</th>\n",
       "      <td>1003</td>\n",
       "      <td>2021-04-12 16:40:26</td>\n",
       "      <td>3</td>\n",
       "      <td>30</td>\n",
       "    </tr>\n",
       "  </tbody>\n",
       "</table>\n",
       "</div>"
      ],
      "text/plain": [
       "   driver_id     event_timestamp  val_to_add  val_to_add_2\n",
       "0       1001 2021-04-12 10:59:42           1            10\n",
       "1       1002 2021-04-12 08:12:10           2            20\n",
       "2       1003 2021-04-12 16:40:26           3            30"
      ]
     },
     "execution_count": 86,
     "metadata": {},
     "output_type": "execute_result"
    }
   ],
   "source": [
    "# Импорт необходимых библиотек\n",
    "import pandas as pd\n",
    "from datetime import datetime\n",
    "\n",
    "# Создание DataFrame из словаря с данными о водителях\n",
    "entity_df = pd.DataFrame.from_dict({\n",
    "    \"driver_id\": [1001, 1002, 1003],  # ID водителей\n",
    "    \"event_timestamp\": [              # Временные метки событий\n",
    "        datetime(2021, 4, 12, 10, 59, 42),\n",
    "        datetime(2021, 4, 12, 8, 12, 10),\n",
    "        datetime(2021, 4, 12, 16, 40, 26)\n",
    "    ],\n",
    "    'val_to_add': [1, 2, 3],         # Дополнительное значение для каждого водителя\n",
    "    'val_to_add_2': [10, 20, 30]     # Еще одно дополнительное значение\n",
    "})\n",
    "\n",
    "# Вывод созданного DataFrame\n",
    "entity_df\n"
   ]
  },
  {
   "cell_type": "code",
   "execution_count": 87,
   "id": "361d0f9f-db31-40fb-944e-b0a82c6a0431",
   "metadata": {},
   "outputs": [
    {
     "name": "stderr",
     "output_type": "stream",
     "text": [
      "WARNING:root:_list_feature_views will make breaking changes. Please use _list_batch_feature_views instead. _list_feature_views will behave like _list_all_feature_views in the future.\n"
     ]
    }
   ],
   "source": [
    "# Получение исторических признаков для водителей\n",
    "training_df = store.get_historical_features(\n",
    "    entity_df=entity_df,  # DataFrame с информацией о водителях\n",
    "    features=[            # Список признаков, которые нужно получить\n",
    "        'driver_hourly_stats_fresh:conv_rate',      # Конверсия в текущем часе\n",
    "        'driver_hourly_stats:avg_daily_trips',       # Среднее количество поездок в день\n",
    "        'driver_hourly_stats:acc_rate',             # Акцентуальность в текущем часе\n",
    "        'transformed_conv_rate_fresh:conv_rate_plus_val1',  # Конверсия плюс первое дополнительное значение\n",
    "        'transformed_conv_rate_fresh:conv_rate_plus_val2'   # Конверсия плюс второе дополнительное значение\n",
    "    ]\n",
    ").to_df()  # Преобразование результата в DataFrame\n",
    "\n"
   ]
  },
  {
   "cell_type": "code",
   "execution_count": 88,
   "id": "af3ec512-16a0-4b73-bf54-40f9dc3aeb60",
   "metadata": {},
   "outputs": [
    {
     "data": {
      "text/html": [
       "<div>\n",
       "<style scoped>\n",
       "    .dataframe tbody tr th:only-of-type {\n",
       "        vertical-align: middle;\n",
       "    }\n",
       "\n",
       "    .dataframe tbody tr th {\n",
       "        vertical-align: top;\n",
       "    }\n",
       "\n",
       "    .dataframe thead th {\n",
       "        text-align: right;\n",
       "    }\n",
       "</style>\n",
       "<table border=\"1\" class=\"dataframe\">\n",
       "  <thead>\n",
       "    <tr style=\"text-align: right;\">\n",
       "      <th></th>\n",
       "      <th>driver_id</th>\n",
       "      <th>event_timestamp</th>\n",
       "      <th>val_to_add</th>\n",
       "      <th>val_to_add_2</th>\n",
       "      <th>conv_rate</th>\n",
       "      <th>avg_daily_trips</th>\n",
       "      <th>acc_rate</th>\n",
       "      <th>conv_rate_plus_val1</th>\n",
       "      <th>conv_rate_plus_val2</th>\n",
       "    </tr>\n",
       "  </thead>\n",
       "  <tbody>\n",
       "    <tr>\n",
       "      <th>0</th>\n",
       "      <td>1001</td>\n",
       "      <td>2021-04-12 10:59:42+00:00</td>\n",
       "      <td>1</td>\n",
       "      <td>10</td>\n",
       "      <td>0.813632</td>\n",
       "      <td>771</td>\n",
       "      <td>0.627108</td>\n",
       "      <td>1.813632</td>\n",
       "      <td>10.813632</td>\n",
       "    </tr>\n",
       "    <tr>\n",
       "      <th>1</th>\n",
       "      <td>1002</td>\n",
       "      <td>2021-04-12 08:12:10+00:00</td>\n",
       "      <td>2</td>\n",
       "      <td>20</td>\n",
       "      <td>0.852087</td>\n",
       "      <td>51</td>\n",
       "      <td>0.625460</td>\n",
       "      <td>2.852087</td>\n",
       "      <td>20.852087</td>\n",
       "    </tr>\n",
       "    <tr>\n",
       "      <th>2</th>\n",
       "      <td>1003</td>\n",
       "      <td>2021-04-12 16:40:26+00:00</td>\n",
       "      <td>3</td>\n",
       "      <td>30</td>\n",
       "      <td>0.272128</td>\n",
       "      <td>360</td>\n",
       "      <td>0.853903</td>\n",
       "      <td>3.272128</td>\n",
       "      <td>30.272128</td>\n",
       "    </tr>\n",
       "  </tbody>\n",
       "</table>\n",
       "</div>"
      ],
      "text/plain": [
       "   driver_id           event_timestamp  val_to_add  val_to_add_2  conv_rate  \\\n",
       "0       1001 2021-04-12 10:59:42+00:00           1            10   0.813632   \n",
       "1       1002 2021-04-12 08:12:10+00:00           2            20   0.852087   \n",
       "2       1003 2021-04-12 16:40:26+00:00           3            30   0.272128   \n",
       "\n",
       "   avg_daily_trips  acc_rate  conv_rate_plus_val1  conv_rate_plus_val2  \n",
       "0              771  0.627108             1.813632            10.813632  \n",
       "1               51  0.625460             2.852087            20.852087  \n",
       "2              360  0.853903             3.272128            30.272128  "
      ]
     },
     "execution_count": 88,
     "metadata": {},
     "output_type": "execute_result"
    }
   ],
   "source": [
    "training_df"
   ]
  },
  {
   "cell_type": "markdown",
   "id": "13fb9e98-ddfb-4fb6-98b1-11760eda9e9a",
   "metadata": {},
   "source": [
    "### Спасибо за внимание!"
   ]
  }
 ],
 "metadata": {
  "kernelspec": {
   "display_name": "Python 3 (ipykernel)",
   "language": "python",
   "name": "python3"
  },
  "language_info": {
   "codemirror_mode": {
    "name": "ipython",
    "version": 3
   },
   "file_extension": ".py",
   "mimetype": "text/x-python",
   "name": "python",
   "nbconvert_exporter": "python",
   "pygments_lexer": "ipython3",
   "version": "3.10.12"
  }
 },
 "nbformat": 4,
 "nbformat_minor": 5
}
